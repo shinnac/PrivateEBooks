{
 "cells": [
  {
   "cell_type": "code",
   "execution_count": 5,
   "metadata": {},
   "outputs": [
    {
     "name": "stderr",
     "output_type": "stream",
     "text": [
      "C:\\Users\\SNaka\\AppData\\Local\\Temp\\ipykernel_31992\\3721987798.py:27: DeprecationWarning: ANTIALIAS is deprecated and will be removed in Pillow 10 (2023-07-01). Use LANCZOS or Resampling.LANCZOS instead.\n",
      "  self.image.thumbnail((800, 600), Image.ANTIALIAS)\n"
     ]
    },
    {
     "ename": "TclError",
     "evalue": "image \"pyimage4\" doesn't exist",
     "output_type": "error",
     "traceback": [
      "\u001b[1;31m---------------------------------------------------------------------------\u001b[0m",
      "\u001b[1;31mTclError\u001b[0m                                  Traceback (most recent call last)",
      "Cell \u001b[1;32mIn[5], line 67\u001b[0m\n\u001b[0;32m     65\u001b[0m \u001b[39mif\u001b[39;00m \u001b[39m__name__\u001b[39m \u001b[39m==\u001b[39m \u001b[39m\"\u001b[39m\u001b[39m__main__\u001b[39m\u001b[39m\"\u001b[39m:\n\u001b[0;32m     66\u001b[0m     image_path \u001b[39m=\u001b[39m \u001b[39mr\u001b[39m\u001b[39m\"\u001b[39m\u001b[39mD:\u001b[39m\u001b[39m\\\u001b[39m\u001b[39mOneDrive\u001b[39m\u001b[39m\\\u001b[39m\u001b[39mDesktop\u001b[39m\u001b[39m\\\u001b[39m\u001b[39mscreenshotFolder\u001b[39m\u001b[39m\\\u001b[39m\u001b[39msampleFileName_11.png\u001b[39m\u001b[39m\"\u001b[39m  \u001b[39m# 画像ファイルへのパスを指定してください。\u001b[39;00m\n\u001b[1;32m---> 67\u001b[0m     coordinates \u001b[39m=\u001b[39m select_rectangle(image_path)\n\u001b[0;32m     68\u001b[0m     \u001b[39mprint\u001b[39m(\u001b[39m\"\u001b[39m\u001b[39mSelected rectangle:\u001b[39m\u001b[39m\"\u001b[39m, coordinates)\n",
      "Cell \u001b[1;32mIn[5], line 55\u001b[0m, in \u001b[0;36mselect_rectangle\u001b[1;34m(image_path)\u001b[0m\n\u001b[0;32m     53\u001b[0m \u001b[39mdef\u001b[39;00m \u001b[39mselect_rectangle\u001b[39m(image_path):\n\u001b[0;32m     54\u001b[0m     root \u001b[39m=\u001b[39m tk\u001b[39m.\u001b[39mTk()\n\u001b[1;32m---> 55\u001b[0m     app \u001b[39m=\u001b[39m App(root, image_path)\n\u001b[0;32m     56\u001b[0m     root\u001b[39m.\u001b[39mmainloop()\n\u001b[0;32m     58\u001b[0m     left \u001b[39m=\u001b[39m \u001b[39mint\u001b[39m((app\u001b[39m.\u001b[39mstart_x \u001b[39m/\u001b[39m \u001b[39m800\u001b[39m) \u001b[39m*\u001b[39m app\u001b[39m.\u001b[39mimage\u001b[39m.\u001b[39mwidth)\n",
      "Cell \u001b[1;32mIn[5], line 29\u001b[0m, in \u001b[0;36mApp.__init__\u001b[1;34m(self, master, image_path)\u001b[0m\n\u001b[0;32m     27\u001b[0m \u001b[39mself\u001b[39m\u001b[39m.\u001b[39mimage\u001b[39m.\u001b[39mthumbnail((\u001b[39m800\u001b[39m, \u001b[39m600\u001b[39m), Image\u001b[39m.\u001b[39mANTIALIAS)\n\u001b[0;32m     28\u001b[0m \u001b[39mself\u001b[39m\u001b[39m.\u001b[39mphoto \u001b[39m=\u001b[39m ImageTk\u001b[39m.\u001b[39mPhotoImage(\u001b[39mself\u001b[39m\u001b[39m.\u001b[39mimage)\n\u001b[1;32m---> 29\u001b[0m \u001b[39mself\u001b[39;49m\u001b[39m.\u001b[39;49mcanvas\u001b[39m.\u001b[39;49mcreate_image(\u001b[39m0\u001b[39;49m, \u001b[39m0\u001b[39;49m, anchor\u001b[39m=\u001b[39;49mtk\u001b[39m.\u001b[39;49mNW, image\u001b[39m=\u001b[39;49m\u001b[39mself\u001b[39;49m\u001b[39m.\u001b[39;49mphoto)\n\u001b[0;32m     31\u001b[0m \u001b[39m# Exit button\u001b[39;00m\n\u001b[0;32m     32\u001b[0m \u001b[39mself\u001b[39m\u001b[39m.\u001b[39mexit_button \u001b[39m=\u001b[39m tk\u001b[39m.\u001b[39mButton(\u001b[39mself\u001b[39m\u001b[39m.\u001b[39mmaster, text\u001b[39m=\u001b[39m\u001b[39m\"\u001b[39m\u001b[39mDone\u001b[39m\u001b[39m\"\u001b[39m, command\u001b[39m=\u001b[39m\u001b[39mself\u001b[39m\u001b[39m.\u001b[39mmaster\u001b[39m.\u001b[39mquit)\n",
      "File \u001b[1;32mc:\\Users\\SNaka\\anaconda3\\envs\\env_jisui\\Lib\\tkinter\\__init__.py:2846\u001b[0m, in \u001b[0;36mCanvas.create_image\u001b[1;34m(self, *args, **kw)\u001b[0m\n\u001b[0;32m   2844\u001b[0m \u001b[39mdef\u001b[39;00m \u001b[39mcreate_image\u001b[39m(\u001b[39mself\u001b[39m, \u001b[39m*\u001b[39margs, \u001b[39m*\u001b[39m\u001b[39m*\u001b[39mkw):\n\u001b[0;32m   2845\u001b[0m \u001b[39m    \u001b[39m\u001b[39m\"\"\"Create image item with coordinates x1,y1.\"\"\"\u001b[39;00m\n\u001b[1;32m-> 2846\u001b[0m     \u001b[39mreturn\u001b[39;00m \u001b[39mself\u001b[39;49m\u001b[39m.\u001b[39;49m_create(\u001b[39m'\u001b[39;49m\u001b[39mimage\u001b[39;49m\u001b[39m'\u001b[39;49m, args, kw)\n",
      "File \u001b[1;32mc:\\Users\\SNaka\\anaconda3\\envs\\env_jisui\\Lib\\tkinter\\__init__.py:2832\u001b[0m, in \u001b[0;36mCanvas._create\u001b[1;34m(self, itemType, args, kw)\u001b[0m\n\u001b[0;32m   2830\u001b[0m \u001b[39melse\u001b[39;00m:\n\u001b[0;32m   2831\u001b[0m     cnf \u001b[39m=\u001b[39m {}\n\u001b[1;32m-> 2832\u001b[0m \u001b[39mreturn\u001b[39;00m \u001b[39mself\u001b[39m\u001b[39m.\u001b[39mtk\u001b[39m.\u001b[39mgetint(\u001b[39mself\u001b[39;49m\u001b[39m.\u001b[39;49mtk\u001b[39m.\u001b[39;49mcall(\n\u001b[0;32m   2833\u001b[0m     \u001b[39mself\u001b[39;49m\u001b[39m.\u001b[39;49m_w, \u001b[39m'\u001b[39;49m\u001b[39mcreate\u001b[39;49m\u001b[39m'\u001b[39;49m, itemType,\n\u001b[0;32m   2834\u001b[0m     \u001b[39m*\u001b[39;49m(args \u001b[39m+\u001b[39;49m \u001b[39mself\u001b[39;49m\u001b[39m.\u001b[39;49m_options(cnf, kw))))\n",
      "\u001b[1;31mTclError\u001b[0m: image \"pyimage4\" doesn't exist"
     ]
    }
   ],
   "source": [
    "import tkinter as tk\n",
    "from PIL import Image, ImageTk\n",
    "\n",
    "class App:\n",
    "    def __init__(self, master, image_path):\n",
    "        self.master = master\n",
    "        self.master.title(\"Select Rectangle\")\n",
    "\n",
    "        # GUI widgets\n",
    "        self.canvas = tk.Canvas(self.master, width=800, height=600, bg=\"white\")\n",
    "        self.canvas.pack()\n",
    "\n",
    "        # Mouse event bindings\n",
    "        self.canvas.bind(\"<ButtonPress-1>\", self.on_button_press)\n",
    "        self.canvas.bind(\"<B1-Motion>\", self.on_move_press)\n",
    "        self.canvas.bind(\"<ButtonRelease-1>\", self.on_button_release)\n",
    "\n",
    "        # Rectangle coordinates\n",
    "        self.start_x = None\n",
    "        self.start_y = None\n",
    "        self.end_x = None\n",
    "        self.end_y = None\n",
    "        self.rect_id = None\n",
    "\n",
    "        # Image\n",
    "        self.image = Image.open(image_path)\n",
    "        self.image.thumbnail((800, 600), Image.ANTIALIAS)\n",
    "        self.photo = ImageTk.PhotoImage(self.image)\n",
    "        self.canvas.create_image(0, 0, anchor=tk.NW, image=self.photo)\n",
    "\n",
    "        # Exit button\n",
    "        self.exit_button = tk.Button(self.master, text=\"Done\", command=self.master.quit)\n",
    "        self.exit_button.pack()\n",
    "\n",
    "    def on_button_press(self, event):\n",
    "        self.start_x = event.x\n",
    "        self.start_y = event.y\n",
    "\n",
    "        if not self.rect_id:\n",
    "            self.rect_id = self.canvas.create_rectangle(self.start_x, self.start_y,\n",
    "                                                        self.start_x, self.start_y, outline=\"red\")\n",
    "\n",
    "    def on_move_press(self, event):\n",
    "        cur_x = event.x\n",
    "        cur_y = event.y\n",
    "\n",
    "        self.canvas.coords(self.rect_id, self.start_x, self.start_y, cur_x, cur_y)\n",
    "\n",
    "    def on_button_release(self, event):\n",
    "        self.end_x = event.x\n",
    "        self.end_y = event.y\n",
    "\n",
    "def select_rectangle(image_path):\n",
    "    root = tk.Tk()\n",
    "    app = App(root, image_path)\n",
    "    root.mainloop()\n",
    "\n",
    "    left = int((app.start_x / 800) * app.image.width)\n",
    "    upper = int((app.start_y / 600) * app.image.height)\n",
    "    right = int((app.end_x / 800) * app.image.width)\n",
    "    lower = int((app.end_y / 600) * app.image.height)\n",
    "\n",
    "    return left, upper, right, lower\n",
    "\n",
    "if __name__ == \"__main__\":\n",
    "    image_path = r\"D:\\OneDrive\\Desktop\\screenshotFolder\\sampleFileName_11.png\"  # 画像ファイルへのパスを指定してください。\n",
    "    coordinates = select_rectangle(image_path)\n",
    "    print(\"Selected rectangle:\", coordinates)\n"
   ]
  }
 ],
 "metadata": {
  "kernelspec": {
   "display_name": "env_jisui",
   "language": "python",
   "name": "python3"
  },
  "language_info": {
   "codemirror_mode": {
    "name": "ipython",
    "version": 3
   },
   "file_extension": ".py",
   "mimetype": "text/x-python",
   "name": "python",
   "nbconvert_exporter": "python",
   "pygments_lexer": "ipython3",
   "version": "3.11.2"
  },
  "orig_nbformat": 4
 },
 "nbformat": 4,
 "nbformat_minor": 2
}
