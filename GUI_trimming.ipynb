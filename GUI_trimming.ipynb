{
 "cells": [
  {
   "cell_type": "code",
   "execution_count": 1,
   "metadata": {},
   "outputs": [
    {
     "name": "stderr",
     "output_type": "stream",
     "text": [
      "Exception in Tkinter callback\n",
      "Traceback (most recent call last):\n",
      "  File \"c:\\Users\\shin\\anaconda3\\lib\\site-packages\\PIL\\Image.py\", line 2979, in open\n",
      "    fp.seek(0)\n",
      "AttributeError: 'str' object has no attribute 'seek'\n",
      "\n",
      "During handling of the above exception, another exception occurred:\n",
      "\n",
      "Traceback (most recent call last):\n",
      "  File \"c:\\Users\\shin\\anaconda3\\lib\\tkinter\\__init__.py\", line 1892, in __call__\n",
      "    return self.func(*args)\n",
      "  File \"C:\\Users\\shin\\AppData\\Local\\Temp/ipykernel_6988/3342910849.py\", line 9, in open_image\n",
      "    img = Image.open(file_path)\n",
      "  File \"c:\\Users\\shin\\anaconda3\\lib\\site-packages\\PIL\\Image.py\", line 2981, in open\n",
      "    fp = io.BytesIO(fp.read())\n",
      "AttributeError: 'str' object has no attribute 'read'\n"
     ]
    }
   ],
   "source": [
    "#GUIを使ってトリミングのサイズを決める\n",
    "\n",
    "import tkinter as tk\n",
    "from tkinter import filedialog\n",
    "from PIL import Image, ImageTk\n",
    "\n",
    "def open_image():\n",
    "    file_path = filedialog.askopenfilename()\n",
    "    img = Image.open(file_path)\n",
    "    img.thumbnail((500, 500))\n",
    "    imgtk = ImageTk.PhotoImage(img)\n",
    "    label.config(image=imgtk)\n",
    "    label.image = imgtk\n",
    "    label.original_image = img\n",
    "\n",
    "def save_image():\n",
    "    file_path = filedialog.asksaveasfilename(defaultextension=\".png\")\n",
    "    cropped_image = label.original_image.crop(label.coords)\n",
    "    cropped_image.save(file_path)\n",
    "\n",
    "def on_click(event):\n",
    "    label.coords = (event.x, event.y)\n",
    "\n",
    "def on_drag(event):\n",
    "    x1, y1 = label.coords\n",
    "    x2, y2 = event.x, event.y\n",
    "    canvas = event.widget\n",
    "    canvas.delete(\"rectangle\")\n",
    "    canvas.create_rectangle(x1, y1, x2, y2, outline=\"red\", tags=\"rectangle\")\n",
    "\n",
    "root = tk.Tk()\n",
    "root.title(\"Image Cropper\")\n",
    "\n",
    "label = tk.Label(root)\n",
    "label.pack()\n",
    "\n",
    "open_button = tk.Button(root, text=\"Open Image\", command=open_image)\n",
    "open_button.pack()\n",
    "\n",
    "save_button = tk.Button(root, text=\"Save Image\", command=save_image)\n",
    "save_button.pack()\n",
    "\n",
    "label.bind(\"<Button-1>\", on_click)\n",
    "label.bind(\"<B1-Motion>\", on_drag)\n",
    "\n",
    "root.mainloop()\n"
   ]
  }
 ],
 "metadata": {
  "kernelspec": {
   "display_name": "base",
   "language": "python",
   "name": "python3"
  },
  "language_info": {
   "codemirror_mode": {
    "name": "ipython",
    "version": 3
   },
   "file_extension": ".py",
   "mimetype": "text/x-python",
   "name": "python",
   "nbconvert_exporter": "python",
   "pygments_lexer": "ipython3",
   "version": "3.9.7"
  },
  "orig_nbformat": 4
 },
 "nbformat": 4,
 "nbformat_minor": 2
}
