{
 "cells": [
  {
   "cell_type": "code",
   "execution_count": 1,
   "metadata": {},
   "outputs": [],
   "source": [
    "#複数PNGファイルを結合して単一PDFファイルを作るスクリプト\n",
    "#マンガの自炊用\n",
    "\n",
    "import os\n",
    "from PIL import Image\n",
    "from PyPDF4 import PdfFileReader, PdfFileWriter\n",
    "\n",
    "def convert_png_to_pdf(input_folder, output_folder):\n",
    "    # フォルダが存在しない場合、作成する\n",
    "    if not os.path.exists(output_folder):\n",
    "        os.makedirs(output_folder)\n",
    "\n",
    "    # inputフォルダ内のPNGファイルをPDFに変換してoutputフォルダに保存\n",
    "    for file in os.listdir(input_folder):\n",
    "        if file.endswith(\".png\"):\n",
    "            png_path = os.path.join(input_folder, file)\n",
    "            pdf_path = os.path.join(output_folder, os.path.splitext(file)[0] + \".pdf\")\n",
    "            image = Image.open(png_path)\n",
    "            pdf = image.convert(\"RGB\")\n",
    "            pdf.save(pdf_path)\n",
    "\n",
    "def merge_pdfs(output_folder, output_filename):\n",
    "    pdf_writer = PdfFileWriter()\n",
    "\n",
    "    # outputフォルダ内のPDFファイルを読み込んで結合\n",
    "    for file in os.listdir(output_folder):\n",
    "        if file.endswith(\".pdf\"):\n",
    "            pdf_path = os.path.join(output_folder, file)\n",
    "            pdf_reader = PdfFileReader(pdf_path)\n",
    "\n",
    "            for page_num in range(pdf_reader.getNumPages()):\n",
    "                pdf_writer.addPage(pdf_reader.getPage(page_num))\n",
    "\n",
    "    # 結合したPDFを単一ファイルとして保存\n",
    "    with open(os.path.join(output_folder, output_filename), \"wb\") as output_file:\n",
    "        pdf_writer.write(output_file)\n",
    "\n",
    "input_folder = \"input\"\n",
    "output_folder = \"output\"\n",
    "output_filename = \"combined_pdf.pdf\"\n",
    "\n",
    "convert_png_to_pdf(input_folder, output_folder)\n",
    "merge_pdfs(output_folder, output_filename)\n"
   ]
  },
  {
   "cell_type": "code",
   "execution_count": null,
   "metadata": {},
   "outputs": [],
   "source": []
  }
 ],
 "metadata": {
  "kernelspec": {
   "display_name": "base",
   "language": "python",
   "name": "python3"
  },
  "language_info": {
   "codemirror_mode": {
    "name": "ipython",
    "version": 3
   },
   "file_extension": ".py",
   "mimetype": "text/x-python",
   "name": "python",
   "nbconvert_exporter": "python",
   "pygments_lexer": "ipython3",
   "version": "3.9.7"
  },
  "orig_nbformat": 4
 },
 "nbformat": 4,
 "nbformat_minor": 2
}
